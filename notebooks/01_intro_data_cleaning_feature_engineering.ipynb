{
 "cells": [
  {
   "cell_type": "markdown",
   "metadata": {
    "id": "UUlyoa34kLQk"
   },
   "source": [
    "# Gaming Trends 2024: More Than Just Play\n",
    "\n",
    "The gaming industry has grown far beyond its roots as entertainment. Today, it operates as a cultural, technological and economic force influencing how people connect, compete and create.\n",
    "Gaming is now a living ecosystem, constantly shaped by new platforms, evolving genres, community voices and global market forces.\n",
    "\n",
    "From blockbuster AAA(Tripe-A)* titles and indie hits to Mobile-first sensations and immersive VR experiences, the way pepople engage with games has diversified dramatically. Platforms today are not just delivery mechanisms, they define how players intercat with content. Meanwhile, genres are no longer categories but felxible creative spaces that merge mechanics, storytelling and player emotion.\n",
    "\n",
    "**Goal**\n",
    "\n",
    "To develop a data-backed understanding of how different variables, such as genre popularity, influencer endorsements or platform engagement impact a game's performance. Based on these insights, the project will generate strategic recommendations tailored to core stakeholder groups such as Game Developers, Publishers, Product Managers, Game Designers, Marketers.\n",
    "\n",
    "The primary goal of this capstone is to:\n",
    "\n",
    "- Predict and interpret Revenue Per User (RPU) using scalable ML models.\n",
    "- Align findings to stakeholder priorities such as game design, platform strategy, campaign planning and content scheduling.\n",
    "\n",
    "This project offers a blueprint for data0driven decision-making in the gaming ecosystem, helping studios improve monetization without compromising user experience.\n",
    "\n",
    "**Problem Statement**\n",
    "\n",
    "Game Studios today face a multidimensional challenge:\n",
    "\n",
    "- Which combination of player engagement, platform type and monetization strategies drive success?\n",
    "- How can we use Machine Learning to forecast revenue performance and generate role-specific recommendations for key stakehodlers?\n",
    "\n",
    "While game analytics tools often show surface-level KPIs, they fall short of revealing the interplay between behavioral signals and monetization performance, especially at per user level.\n",
    "\n",
    "This project addresses this gap by:\n",
    "\n",
    "- Engineering a refined target variable for revenue per user.\n",
    "- Modeling both linear and non linear relationships between engagement behviors, content exposure and monetization outputs.\n",
    "- Translating model outputs into stakeholder-aligned insights using interpretability tools such as Feature Importance and Partial Dependence Plots\n",
    "\n",
    "**Data Source**\n",
    "\n",
    "The dataset used for this capstone project is \"Gaming Trends 2024\" [dataset](https://www.kaggle.com/datasets/anonymous28574/gaming-trends-2024), from Kaggle.\n",
    "\n",
    "the data spans 4989 entries and covers behavioral,financial and marketing-relevant dimensions, making it suitable for end-to-end modeling and stakeholder analysis.\n",
    "\n",
    "\n",
    "**Methodology**\n",
    "\n",
    "The project follows a structured machine learning pipeline with a focus on business-aligned interpretability:\n",
    "\n",
    "1. Data Preparation & Feature Engineering\n",
    "2. Exploratory Data Analysis(EDA)\n",
    "3. Baseline Modeling & Evaluation\n",
    "4. Advanced Modeling & Evaluation\n",
    "5. Interpretability & Insights\n",
    "\n",
    "***AAA (Triple-A) Games:** refer to high-budget, high-profile games developed and published by major studies. Examples include titles like Elden Ring, The Lengend of Zelda: Tears of the Kingdon or Call of Duty."
   ]
  },
  {
   "cell_type": "markdown",
   "metadata": {
    "id": "_JE4yB8LnwZR"
   },
   "source": [
    "# Data Import and Cleaning"
   ]
  },
  {
   "cell_type": "markdown",
   "metadata": {
    "id": "js0yfxLYzu_T"
   },
   "source": [
    "**About the Dataset**\n",
    "\n",
    "**Understanding the Pulse of the Gaming Market**\n",
    "\n",
    "The [dataset](https://www.kaggle.com/datasets/anonymous28574/gaming-trends-2024) used in this project, includes both quantitative metrics, such as player activity and revenue and qualitative indicators, such as social media buzz and influencer backing.\n",
    "\n",
    "Each row in the dataset represents a game, and the variables reflect its reach, popularity and business performance.\n",
    "\n",
    "Here's a breakdown of the key features:\n",
    "\n",
    "Variable <---------------------------------------> Description\n",
    "\n",
    "---\n",
    "\n",
    "```\n",
    "date                         The release data of the game.\n",
    "```\n",
    "```\n",
    "platform                     The platform type where the game is available (e.g., PS, Console, Mobile, VR).\n",
    "```\n",
    "```\n",
    "daily_active_users (DAU)     The average number of users who play the game daily. A measure of consistent engagement.\n",
    "```\n",
    "```\n",
    "new_registrations            The number of new player sign-ups. A metric for growth and acquisitions.\n",
    "```\n",
    "```\n",
    "session_duration             Average time(in mins) spent per session. This indicates the depth of engagement.\n",
    "```\n",
    "```\n",
    "in_game_purchases            Revenue earned from micro-transactions, downloadable content or premium in-game items.\n",
    "```\n",
    "```\n",
    "social_media_mentions        The number of mentions the game has received across social media platforms, used as a proxy for community buzz.\n",
    "```\n",
    "```\n",
    "streamable_viewership        Number of people wtaching the game via streaming platforms like Twitch or YouTube Gaming.\n",
    "```\n",
    "```\n",
    "revenue                      Total revenue generated from all sources including purchases, subscriptions, and data.\n",
    "```\n",
    "```\n",
    "top_genre                    The primary genre of the game(e.g., Action, Strategy, Simulation, RPG).\n",
    "```\n",
    "```\n",
    "influencer_endorsements      A binary variable (0 = no, 1 = yes) indicating whether major influencers have promoted the game.\n",
    "```\n",
    "\n",
    "These features allow for a layered exploration of what success looks like in today's gaming world - spanning from hardcore engagement to commercial viability."
   ]
  },
  {
   "cell_type": "code",
   "execution_count": 4,
   "metadata": {
    "id": "FVEQdK9w4YBy"
   },
   "outputs": [],
   "source": [
    "# Import libraries\n",
    "\n",
    "import pandas as pd\n",
    "import numpy as np\n",
    "import matplotlib.pyplot as plt\n",
    "import seaborn as sns"
   ]
  },
  {
   "cell_type": "code",
   "execution_count": 22,
   "metadata": {
    "id": "p3aLm8lW4nP_"
   },
   "outputs": [],
   "source": [
    "# Load Data\n",
    "\n",
    "df = pd.read_csv(\"../data/gaming_trends_2024.csv\")"
   ]
  },
  {
   "cell_type": "code",
   "execution_count": 24,
   "metadata": {
    "colab": {
     "base_uri": "https://localhost:8080/",
     "height": 630
    },
    "executionInfo": {
     "elapsed": 114,
     "status": "ok",
     "timestamp": 1746477470948,
     "user": {
      "displayName": "Chaitanya Kademane",
      "userId": "09189680337321294334"
     },
     "user_tz": 420
    },
    "id": "bheMQy2R5jqa",
    "outputId": "8c8c37c9-6a96-409f-f545-30e4f78cf992"
   },
   "outputs": [
    {
     "name": "stdout",
     "output_type": "stream",
     "text": [
      "<class 'pandas.core.frame.DataFrame'>\n",
      "RangeIndex: 4989 entries, 0 to 4988\n",
      "Data columns (total 11 columns):\n",
      " #   Column                      Non-Null Count  Dtype  \n",
      "---  ------                      --------------  -----  \n",
      " 0   Date                        4989 non-null   object \n",
      " 1   Platform                    4989 non-null   object \n",
      " 2   Daily Active Users (DAU)    4989 non-null   int64  \n",
      " 3   New Registrations           4989 non-null   int64  \n",
      " 4   Session Duration (minutes)  4989 non-null   float64\n",
      " 5   In-game Purchases ($)       4989 non-null   float64\n",
      " 6   Social Media Mentions       4989 non-null   int64  \n",
      " 7   Stream Viewership           4989 non-null   float64\n",
      " 8   Revenue ($)                 4989 non-null   float64\n",
      " 9   Top Genre                   4989 non-null   object \n",
      " 10  Influencer Endorsements     4989 non-null   int64  \n",
      "dtypes: float64(4), int64(4), object(3)\n",
      "memory usage: 428.9+ KB\n"
     ]
    },
    {
     "data": {
      "text/html": [
       "<div>\n",
       "<style scoped>\n",
       "    .dataframe tbody tr th:only-of-type {\n",
       "        vertical-align: middle;\n",
       "    }\n",
       "\n",
       "    .dataframe tbody tr th {\n",
       "        vertical-align: top;\n",
       "    }\n",
       "\n",
       "    .dataframe thead th {\n",
       "        text-align: right;\n",
       "    }\n",
       "</style>\n",
       "<table border=\"1\" class=\"dataframe\">\n",
       "  <thead>\n",
       "    <tr style=\"text-align: right;\">\n",
       "      <th></th>\n",
       "      <th>Daily Active Users (DAU)</th>\n",
       "      <th>New Registrations</th>\n",
       "      <th>Session Duration (minutes)</th>\n",
       "      <th>In-game Purchases ($)</th>\n",
       "      <th>Social Media Mentions</th>\n",
       "      <th>Stream Viewership</th>\n",
       "      <th>Revenue ($)</th>\n",
       "      <th>Influencer Endorsements</th>\n",
       "    </tr>\n",
       "  </thead>\n",
       "  <tbody>\n",
       "    <tr>\n",
       "      <th>count</th>\n",
       "      <td>4989.000000</td>\n",
       "      <td>4989.000000</td>\n",
       "      <td>4989.000000</td>\n",
       "      <td>4989.000000</td>\n",
       "      <td>4989.000000</td>\n",
       "      <td>4989.000000</td>\n",
       "      <td>4989.000000</td>\n",
       "      <td>4989.000000</td>\n",
       "    </tr>\n",
       "    <tr>\n",
       "      <th>mean</th>\n",
       "      <td>111071.252957</td>\n",
       "      <td>11106.669072</td>\n",
       "      <td>58.349332</td>\n",
       "      <td>52079.754650</td>\n",
       "      <td>5727.306875</td>\n",
       "      <td>59989.377645</td>\n",
       "      <td>70411.817171</td>\n",
       "      <td>0.449589</td>\n",
       "    </tr>\n",
       "    <tr>\n",
       "      <th>std</th>\n",
       "      <td>51825.934921</td>\n",
       "      <td>5182.591086</td>\n",
       "      <td>21.826225</td>\n",
       "      <td>24831.727842</td>\n",
       "      <td>2435.780271</td>\n",
       "      <td>22887.182173</td>\n",
       "      <td>41996.191553</td>\n",
       "      <td>0.606463</td>\n",
       "    </tr>\n",
       "    <tr>\n",
       "      <th>min</th>\n",
       "      <td>10009.000000</td>\n",
       "      <td>1000.000000</td>\n",
       "      <td>8.236262</td>\n",
       "      <td>10009.847567</td>\n",
       "      <td>1001.000000</td>\n",
       "      <td>20012.244966</td>\n",
       "      <td>5010.198644</td>\n",
       "      <td>0.000000</td>\n",
       "    </tr>\n",
       "    <tr>\n",
       "      <th>25%</th>\n",
       "      <td>67896.000000</td>\n",
       "      <td>6789.000000</td>\n",
       "      <td>40.586113</td>\n",
       "      <td>31312.560583</td>\n",
       "      <td>3797.000000</td>\n",
       "      <td>40175.212242</td>\n",
       "      <td>33134.929420</td>\n",
       "      <td>0.000000</td>\n",
       "    </tr>\n",
       "    <tr>\n",
       "      <th>50%</th>\n",
       "      <td>117520.000000</td>\n",
       "      <td>11752.000000</td>\n",
       "      <td>56.503485</td>\n",
       "      <td>50127.674771</td>\n",
       "      <td>5927.000000</td>\n",
       "      <td>59670.764554</td>\n",
       "      <td>64279.959705</td>\n",
       "      <td>0.000000</td>\n",
       "    </tr>\n",
       "    <tr>\n",
       "      <th>75%</th>\n",
       "      <td>153186.000000</td>\n",
       "      <td>15318.000000</td>\n",
       "      <td>75.941008</td>\n",
       "      <td>72301.012982</td>\n",
       "      <td>7701.000000</td>\n",
       "      <td>79328.227960</td>\n",
       "      <td>106563.117966</td>\n",
       "      <td>1.000000</td>\n",
       "    </tr>\n",
       "    <tr>\n",
       "      <th>max</th>\n",
       "      <td>199907.000000</td>\n",
       "      <td>19990.000000</td>\n",
       "      <td>99.997146</td>\n",
       "      <td>99954.556507</td>\n",
       "      <td>9999.000000</td>\n",
       "      <td>111958.552918</td>\n",
       "      <td>149993.898008</td>\n",
       "      <td>7.000000</td>\n",
       "    </tr>\n",
       "  </tbody>\n",
       "</table>\n",
       "</div>"
      ],
      "text/plain": [
       "       Daily Active Users (DAU)  New Registrations  \\\n",
       "count               4989.000000        4989.000000   \n",
       "mean              111071.252957       11106.669072   \n",
       "std                51825.934921        5182.591086   \n",
       "min                10009.000000        1000.000000   \n",
       "25%                67896.000000        6789.000000   \n",
       "50%               117520.000000       11752.000000   \n",
       "75%               153186.000000       15318.000000   \n",
       "max               199907.000000       19990.000000   \n",
       "\n",
       "       Session Duration (minutes)  In-game Purchases ($)  \\\n",
       "count                 4989.000000            4989.000000   \n",
       "mean                    58.349332           52079.754650   \n",
       "std                     21.826225           24831.727842   \n",
       "min                      8.236262           10009.847567   \n",
       "25%                     40.586113           31312.560583   \n",
       "50%                     56.503485           50127.674771   \n",
       "75%                     75.941008           72301.012982   \n",
       "max                     99.997146           99954.556507   \n",
       "\n",
       "       Social Media Mentions  Stream Viewership    Revenue ($)  \\\n",
       "count            4989.000000        4989.000000    4989.000000   \n",
       "mean             5727.306875       59989.377645   70411.817171   \n",
       "std              2435.780271       22887.182173   41996.191553   \n",
       "min              1001.000000       20012.244966    5010.198644   \n",
       "25%              3797.000000       40175.212242   33134.929420   \n",
       "50%              5927.000000       59670.764554   64279.959705   \n",
       "75%              7701.000000       79328.227960  106563.117966   \n",
       "max              9999.000000      111958.552918  149993.898008   \n",
       "\n",
       "       Influencer Endorsements  \n",
       "count              4989.000000  \n",
       "mean                  0.449589  \n",
       "std                   0.606463  \n",
       "min                   0.000000  \n",
       "25%                   0.000000  \n",
       "50%                   0.000000  \n",
       "75%                   1.000000  \n",
       "max                   7.000000  "
      ]
     },
     "execution_count": 24,
     "metadata": {},
     "output_type": "execute_result"
    }
   ],
   "source": [
    "# Initial Inspection\n",
    "\n",
    "df.head()\n",
    "df.info()\n",
    "df.describe()"
   ]
  },
  {
   "cell_type": "code",
   "execution_count": 26,
   "metadata": {
    "colab": {
     "base_uri": "https://localhost:8080/",
     "height": 300
    },
    "executionInfo": {
     "elapsed": 85,
     "status": "ok",
     "timestamp": 1746477477589,
     "user": {
      "displayName": "Chaitanya Kademane",
      "userId": "09189680337321294334"
     },
     "user_tz": 420
    },
    "id": "PJ2Kt0-x9MDr",
    "outputId": "ccd937d0-ff04-46e5-a6f5-ba0fbd260c29"
   },
   "outputs": [
    {
     "data": {
      "text/html": [
       "<div>\n",
       "<style scoped>\n",
       "    .dataframe tbody tr th:only-of-type {\n",
       "        vertical-align: middle;\n",
       "    }\n",
       "\n",
       "    .dataframe tbody tr th {\n",
       "        vertical-align: top;\n",
       "    }\n",
       "\n",
       "    .dataframe thead th {\n",
       "        text-align: right;\n",
       "    }\n",
       "</style>\n",
       "<table border=\"1\" class=\"dataframe\">\n",
       "  <thead>\n",
       "    <tr style=\"text-align: right;\">\n",
       "      <th></th>\n",
       "      <th>daily_active_users_dau</th>\n",
       "      <th>new_registrations</th>\n",
       "      <th>session_duration_minutes</th>\n",
       "      <th>ingame_purchases_</th>\n",
       "      <th>social_media_mentions</th>\n",
       "      <th>stream_viewership</th>\n",
       "      <th>revenue_</th>\n",
       "      <th>influencer_endorsements</th>\n",
       "    </tr>\n",
       "  </thead>\n",
       "  <tbody>\n",
       "    <tr>\n",
       "      <th>count</th>\n",
       "      <td>4989.000000</td>\n",
       "      <td>4989.000000</td>\n",
       "      <td>4989.000000</td>\n",
       "      <td>4989.000000</td>\n",
       "      <td>4989.000000</td>\n",
       "      <td>4989.000000</td>\n",
       "      <td>4989.000000</td>\n",
       "      <td>4989.000000</td>\n",
       "    </tr>\n",
       "    <tr>\n",
       "      <th>mean</th>\n",
       "      <td>111071.252957</td>\n",
       "      <td>11106.669072</td>\n",
       "      <td>58.349332</td>\n",
       "      <td>52079.754650</td>\n",
       "      <td>5727.306875</td>\n",
       "      <td>59989.377645</td>\n",
       "      <td>70411.817171</td>\n",
       "      <td>0.449589</td>\n",
       "    </tr>\n",
       "    <tr>\n",
       "      <th>std</th>\n",
       "      <td>51825.934921</td>\n",
       "      <td>5182.591086</td>\n",
       "      <td>21.826225</td>\n",
       "      <td>24831.727842</td>\n",
       "      <td>2435.780271</td>\n",
       "      <td>22887.182173</td>\n",
       "      <td>41996.191553</td>\n",
       "      <td>0.606463</td>\n",
       "    </tr>\n",
       "    <tr>\n",
       "      <th>min</th>\n",
       "      <td>10009.000000</td>\n",
       "      <td>1000.000000</td>\n",
       "      <td>8.236262</td>\n",
       "      <td>10009.847567</td>\n",
       "      <td>1001.000000</td>\n",
       "      <td>20012.244966</td>\n",
       "      <td>5010.198644</td>\n",
       "      <td>0.000000</td>\n",
       "    </tr>\n",
       "    <tr>\n",
       "      <th>25%</th>\n",
       "      <td>67896.000000</td>\n",
       "      <td>6789.000000</td>\n",
       "      <td>40.586113</td>\n",
       "      <td>31312.560583</td>\n",
       "      <td>3797.000000</td>\n",
       "      <td>40175.212242</td>\n",
       "      <td>33134.929420</td>\n",
       "      <td>0.000000</td>\n",
       "    </tr>\n",
       "    <tr>\n",
       "      <th>50%</th>\n",
       "      <td>117520.000000</td>\n",
       "      <td>11752.000000</td>\n",
       "      <td>56.503485</td>\n",
       "      <td>50127.674771</td>\n",
       "      <td>5927.000000</td>\n",
       "      <td>59670.764554</td>\n",
       "      <td>64279.959705</td>\n",
       "      <td>0.000000</td>\n",
       "    </tr>\n",
       "    <tr>\n",
       "      <th>75%</th>\n",
       "      <td>153186.000000</td>\n",
       "      <td>15318.000000</td>\n",
       "      <td>75.941008</td>\n",
       "      <td>72301.012982</td>\n",
       "      <td>7701.000000</td>\n",
       "      <td>79328.227960</td>\n",
       "      <td>106563.117966</td>\n",
       "      <td>1.000000</td>\n",
       "    </tr>\n",
       "    <tr>\n",
       "      <th>max</th>\n",
       "      <td>199907.000000</td>\n",
       "      <td>19990.000000</td>\n",
       "      <td>99.997146</td>\n",
       "      <td>99954.556507</td>\n",
       "      <td>9999.000000</td>\n",
       "      <td>111958.552918</td>\n",
       "      <td>149993.898008</td>\n",
       "      <td>7.000000</td>\n",
       "    </tr>\n",
       "  </tbody>\n",
       "</table>\n",
       "</div>"
      ],
      "text/plain": [
       "       daily_active_users_dau  new_registrations  session_duration_minutes  \\\n",
       "count             4989.000000        4989.000000               4989.000000   \n",
       "mean            111071.252957       11106.669072                 58.349332   \n",
       "std              51825.934921        5182.591086                 21.826225   \n",
       "min              10009.000000        1000.000000                  8.236262   \n",
       "25%              67896.000000        6789.000000                 40.586113   \n",
       "50%             117520.000000       11752.000000                 56.503485   \n",
       "75%             153186.000000       15318.000000                 75.941008   \n",
       "max             199907.000000       19990.000000                 99.997146   \n",
       "\n",
       "       ingame_purchases_  social_media_mentions  stream_viewership  \\\n",
       "count        4989.000000            4989.000000        4989.000000   \n",
       "mean        52079.754650            5727.306875       59989.377645   \n",
       "std         24831.727842            2435.780271       22887.182173   \n",
       "min         10009.847567            1001.000000       20012.244966   \n",
       "25%         31312.560583            3797.000000       40175.212242   \n",
       "50%         50127.674771            5927.000000       59670.764554   \n",
       "75%         72301.012982            7701.000000       79328.227960   \n",
       "max         99954.556507            9999.000000      111958.552918   \n",
       "\n",
       "            revenue_  influencer_endorsements  \n",
       "count    4989.000000              4989.000000  \n",
       "mean    70411.817171                 0.449589  \n",
       "std     41996.191553                 0.606463  \n",
       "min      5010.198644                 0.000000  \n",
       "25%     33134.929420                 0.000000  \n",
       "50%     64279.959705                 0.000000  \n",
       "75%    106563.117966                 1.000000  \n",
       "max    149993.898008                 7.000000  "
      ]
     },
     "execution_count": 26,
     "metadata": {},
     "output_type": "execute_result"
    }
   ],
   "source": [
    "# Standardize columns names\n",
    "df.columns = df.columns.str.strip().str.lower().str.replace(' ', '_')\n",
    "\n",
    "# Clean the column names\n",
    "df.columns = df.columns.str.replace('[^a-zA-Z0-9_]', '', regex=True)\n",
    "df.describe()"
   ]
  },
  {
   "cell_type": "code",
   "execution_count": 28,
   "metadata": {
    "colab": {
     "base_uri": "https://localhost:8080/",
     "height": 366
    },
    "executionInfo": {
     "elapsed": 57,
     "status": "ok",
     "timestamp": 1746477487455,
     "user": {
      "displayName": "Chaitanya Kademane",
      "userId": "09189680337321294334"
     },
     "user_tz": 420
    },
    "id": "GpHcOOqz-wmX",
    "outputId": "0ad51667-f3b3-4fdd-fe01-3e6233be70f4"
   },
   "outputs": [
    {
     "data": {
      "text/plain": [
       "influencer_endorsements\n",
       "0    2910\n",
       "1    1997\n",
       "2      36\n",
       "3      23\n",
       "4      14\n",
       "5       6\n",
       "6       2\n",
       "7       1\n",
       "Name: count, dtype: int64"
      ]
     },
     "execution_count": 28,
     "metadata": {},
     "output_type": "execute_result"
    }
   ],
   "source": [
    "# Check Influencer Endosements column distribution\n",
    "\n",
    "df['influencer_endorsements'].value_counts()"
   ]
  },
  {
   "cell_type": "code",
   "execution_count": 30,
   "metadata": {
    "id": "Y6ThvU5O_P3u"
   },
   "outputs": [],
   "source": [
    "# Binarize the influencer endorsement column values, as the values for \"being promoted\" seems to be distributed over a range of 1-7.\n",
    "# 0 - No Promotion\n",
    "# 1 - Yes, Promoted (by either influencer or streamer)\n",
    "\n",
    "df['influencer_endorsements'] = df['influencer_endorsements'].apply(lambda x: 0 if x == 0 else 1)"
   ]
  },
  {
   "cell_type": "code",
   "execution_count": 32,
   "metadata": {
    "colab": {
     "base_uri": "https://localhost:8080/",
     "height": 178
    },
    "executionInfo": {
     "elapsed": 11,
     "status": "ok",
     "timestamp": 1746477500981,
     "user": {
      "displayName": "Chaitanya Kademane",
      "userId": "09189680337321294334"
     },
     "user_tz": 420
    },
    "id": "ppwPef91_j8r",
    "outputId": "0811a0e5-d250-4854-a6df-5568a700c2cc"
   },
   "outputs": [
    {
     "data": {
      "text/plain": [
       "influencer_endorsements\n",
       "0    2910\n",
       "1    2079\n",
       "Name: count, dtype: int64"
      ]
     },
     "execution_count": 32,
     "metadata": {},
     "output_type": "execute_result"
    }
   ],
   "source": [
    "# check the result\n",
    "\n",
    "df['influencer_endorsements'].value_counts()"
   ]
  },
  {
   "cell_type": "code",
   "execution_count": 34,
   "metadata": {
    "colab": {
     "base_uri": "https://localhost:8080/"
    },
    "executionInfo": {
     "elapsed": 10,
     "status": "ok",
     "timestamp": 1746477505543,
     "user": {
      "displayName": "Chaitanya Kademane",
      "userId": "09189680337321294334"
     },
     "user_tz": 420
    },
    "id": "OXfc_JTi_5UD",
    "outputId": "094f3115-2fa1-4fa3-c3f6-91fe377a9b7f"
   },
   "outputs": [
    {
     "name": "stdout",
     "output_type": "stream",
     "text": [
      "Missingvalues per column:\n",
      " Series([], dtype: int64)\n"
     ]
    }
   ],
   "source": [
    "# Check for missing values across all columns\n",
    "missing = df.isnull().sum()\n",
    "\n",
    "# Filter and show only columns with missing values\n",
    "missing = missing[missing > 0].sort_values(ascending = False)\n",
    "\n",
    "print(\"Missingvalues per column:\\n\", missing)"
   ]
  },
  {
   "cell_type": "markdown",
   "metadata": {
    "id": "_0gh_ZoqQQ_D"
   },
   "source": [
    "# Feature Engineering\n",
    "\n",
    "Let's reverse-engineer the feature selection by aligning it with stakeholder-focused recommendations, so the model directly supports meaningful insights.\n",
    "\n",
    "Goal: Pick Features Based on Stakeholder Use Cases\n",
    "\n",
    "Below is a mapping of stakeholder needs -> aligned features from the dataset:\n",
    "\n",
    "1. **Game Developers**\n",
    "=> Which design features improve retention or Daily Active Users?\n",
    "\n",
    " * session_duration_minutes\n",
    " * daily_active_users_dau\n",
    " * engagement_level (created later)\n",
    " * top_genre\n",
    " * platform\n",
    "\n",
    "\n",
    "2. **Publishers**\n",
    "=> Which genre-platform combinations driver ROI?\n",
    "\n",
    " * platform\n",
    " * top_genre\n",
    " * in_game_purchases\n",
    "\n",
    "\n",
    "3. Marketers\n",
    "=> What drives community interest and membership purchases?\n",
    "\n",
    " * social_media_mentions\n",
    " * stream_viewership\n",
    " * influencer_endorsements\n",
    " * new_registrations\n",
    "\n",
    "\n",
    "4. Product Managers & Designers\n",
    "=> Which gameplay behaviors and mechanics improve experience and retention?\n",
    "\n",
    " * session_duration_minutes\n",
    " * engagement_level\n",
    " * stream_viewership\n",
    " * daily_active_users_dau\n",
    " * top_genres\n"
   ]
  },
  {
   "cell_type": "markdown",
   "metadata": {
    "id": "YQCz9iQpe9-5"
   },
   "source": [
    "* Create a per-user monetization metric -> revenue_per_user\n",
    "  * A game with high total revenue may look successful, but revenue_per_user tells you how efficiently it's monetizing its player base.\n",
    "  * revenue_per_user feature is good for understanding monetization strength independent of audience size."
   ]
  },
  {
   "cell_type": "code",
   "execution_count": 37,
   "metadata": {
    "colab": {
     "base_uri": "https://localhost:8080/",
     "height": 472
    },
    "executionInfo": {
     "elapsed": 80,
     "status": "ok",
     "timestamp": 1746478314577,
     "user": {
      "displayName": "Chaitanya Kademane",
      "userId": "09189680337321294334"
     },
     "user_tz": 420
    },
    "id": "vdLf5idEQJMk",
    "outputId": "15dc81fe-c10c-4940-8dd1-c2917bb8cc7b"
   },
   "outputs": [
    {
     "data": {
      "image/png": "[encoded data removed]",
      "text/plain": [
       "<Figure size 640x480 with 1 Axes>"
      ]
     },
     "metadata": {},
     "output_type": "display_data"
    }
   ],
   "source": [
    "# Revenue per user\n",
    "df['revenue_per_user'] = df['revenue_'] / df['daily_active_users_dau']\n",
    "\n",
    "# Plot a histogram to check if revenue per user distribution is skewed\n",
    "sns.histplot(df['revenue_per_user'], kde = True)\n",
    "plt.title('Revenue Per User Distribution')\n",
    "plt.xlabel('Revenue Per User ($)')\n",
    "plt.ylabel('Number of Games')\n",
    "plt.show()"
   ]
  },
  {
   "cell_type": "markdown",
   "metadata": {
    "id": "HjDOzZG2UAXy"
   },
   "source": [
    "* Apply log transformation to reduce skew in revenue_per_user distribution.\n",
    "  * heavy concentration below 2 and a long tail extending up to ~14.\n",
    "* Reduce the influence of extreme outliers by applying log transformation.\n",
    "* Improve the model performance, especially for regression or KNN or clustering."
   ]
  },
  {
   "cell_type": "code",
   "execution_count": 39,
   "metadata": {
    "colab": {
     "base_uri": "https://localhost:8080/",
     "height": 472
    },
    "executionInfo": {
     "elapsed": 413,
     "status": "ok",
     "timestamp": 1746478339571,
     "user": {
      "displayName": "Chaitanya Kademane",
      "userId": "09189680337321294334"
     },
     "user_tz": 420
    },
    "id": "ybeHZFqDUVes",
    "outputId": "0867f6fb-5ec0-4d57-cda8-f4736ed56209"
   },
   "outputs": [
    {
     "data": {
      "image/png": "[encoded data removed]",
      "text/plain": [
       "<Figure size 640x480 with 1 Axes>"
      ]
     },
     "metadata": {},
     "output_type": "display_data"
    }
   ],
   "source": [
    "# log transformation of revenue per user\n",
    "\n",
    "df['log_revenue_per_user'] = np.log1p(df['revenue_per_user'])\n",
    "\n",
    "# plot a hsitogram to check if it is normalized\n",
    "sns.histplot(df['log_revenue_per_user'], kde = True)\n",
    "plt.title('Log-Transformed Revenue Per User')\n",
    "plt.xlabel('Log Revenue Per User ($)')\n",
    "plt.ylabel('Number of Games')\n",
    "plt.show()"
   ]
  },
  {
   "cell_type": "markdown",
   "metadata": {
    "id": "SzuKjdABWX8N"
   },
   "source": [
    "* Apply log transformation to revenue_ data that has a wide range from ~5,000 - ~150,000 with likely strong right skew.\n",
    "* the transformation compresses high revenue values and helps models treat all data points more evenly."
   ]
  },
  {
   "cell_type": "code",
   "execution_count": 41,
   "metadata": {
    "colab": {
     "base_uri": "https://localhost:8080/",
     "height": 472
    },
    "executionInfo": {
     "elapsed": 252,
     "status": "ok",
     "timestamp": 1746478369770,
     "user": {
      "displayName": "Chaitanya Kademane",
      "userId": "09189680337321294334"
     },
     "user_tz": 420
    },
    "id": "rG30bPMZXPhi",
    "outputId": "4f4ad89b-f481-4c4c-d2fa-da99399402fa"
   },
   "outputs": [
    {
     "data": {
      "image/png": "[encoded data removed]",
      "text/plain": [
       "<Figure size 640x480 with 1 Axes>"
      ]
     },
     "metadata": {},
     "output_type": "display_data"
    }
   ],
   "source": [
    "# log transformation of revenue\n",
    "df['log_revenue'] = np.log1p(df['revenue_'])\n",
    "\n",
    "# plot a historgram to check if it is normalized\n",
    "sns.histplot(df['log_revenue'], kde = True)\n",
    "plt.title('Log-Transformed Revenue Distribution')\n",
    "plt.xlabel('Log Revenue ($)')\n",
    "plt.ylabel('Number of Games')\n",
    "plt.show()"
   ]
  },
  {
   "cell_type": "markdown",
   "metadata": {
    "id": "aEaZ9LL_YU90"
   },
   "source": [
    "* Categorize Engagement into engagement_level based on Session duration\n",
    "\n",
    "  * Low: 0 - 5 minutes\n",
    "  * Medium: : 5-15 minutes\n",
    "  * High: > 15 - 99.99 minutes(max value)\n",
    "\n",
    "* include_lowest = True ensures the first bin includes the minimum session value (e.g., if it's exactly 0)"
   ]
  },
  {
   "cell_type": "code",
   "execution_count": 43,
   "metadata": {
    "colab": {
     "base_uri": "https://localhost:8080/",
     "height": 472
    },
    "executionInfo": {
     "elapsed": 161,
     "status": "ok",
     "timestamp": 1746478412340,
     "user": {
      "displayName": "Chaitanya Kademane",
      "userId": "09189680337321294334"
     },
     "user_tz": 420
    },
    "id": "EeRr2tGRYzu4",
    "outputId": "9f97834d-65ae-4b4c-f410-54150480147c"
   },
   "outputs": [
    {
     "data": {
      "image/png": "[encoded data removed]",
      "text/plain": [
       "<Figure size 640x480 with 1 Axes>"
      ]
     },
     "metadata": {},
     "output_type": "display_data"
    }
   ],
   "source": [
    "# Use actual max session duration from the dataset\n",
    "max_duration = df['session_duration_minutes'].max()\n",
    "\n",
    "# Define engagement levels using the max value\n",
    "df['engagement_level'] = pd.cut(df['session_duration_minutes'],\n",
    "                                bins = [0, 40, 60, max_duration],\n",
    "                                labels = ['Low', 'Medium', 'High'],\n",
    "                                include_lowest = True)\n",
    "\n",
    "# plot the count of games per engagement level\n",
    "sns.countplot(data=df, hue='engagement_level', x='engagement_level', legend = False,  palette='viridis')\n",
    "plt.title('Distribution of Engagement Levels')\n",
    "plt.xlabel('Engagement Level')\n",
    "plt.ylabel('Number of Games')\n",
    "plt.show()"
   ]
  },
  {
   "cell_type": "markdown",
   "metadata": {
    "id": "YRgVyMVXfx3I"
   },
   "source": [
    "**Scaling the Features**\n",
    "\n",
    "To prepare the dataset for machine learning, let's apply Min-Max normalization to selected numerical features.\n",
    "\n",
    "Features that can be scaled:\n",
    " * daily_active_users_dau\n",
    " * session_duration_minutes\n",
    " * in_game_purchases\n",
    " * revenue_per_user\n",
    " * log_revenue\n",
    " * social_media_mentions\n",
    " * stream_viewership\n",
    " * new_registrations\n",
    "\n",
    "This technique rescales values to [0,1] range, preserving relative relationships while preventing features with large numeric scales from dominating model behavior.\n",
    "\n",
    "Features like daily_active_users_dau and revenue_ have much larger magnitudes compared to features like session_duration_minutes or in_game_purchases.\n",
    "\n",
    "Without scaling, the model might wrongly treat large-magnitude features as more important then others."
   ]
  },
  {
   "cell_type": "code",
   "execution_count": 45,
   "metadata": {
    "colab": {
     "base_uri": "https://localhost:8080/"
    },
    "executionInfo": {
     "elapsed": 117,
     "status": "ok",
     "timestamp": 1746548642765,
     "user": {
      "displayName": "Chaitanya Kademane",
      "userId": "09189680337321294334"
     },
     "user_tz": 420
    },
    "id": "wfl4sbdQhMs5",
    "outputId": "fa70694c-e0ef-49f3-b8de-2a98c2d12caa"
   },
   "outputs": [
    {
     "name": "stdout",
     "output_type": "stream",
     "text": [
      "<class 'pandas.core.frame.DataFrame'>\n",
      "RangeIndex: 4989 entries, 0 to 4988\n",
      "Data columns (total 23 columns):\n",
      " #   Column                           Non-Null Count  Dtype   \n",
      "---  ------                           --------------  -----   \n",
      " 0   date                             4989 non-null   object  \n",
      " 1   platform                         4989 non-null   object  \n",
      " 2   daily_active_users_dau           4989 non-null   int64   \n",
      " 3   new_registrations                4989 non-null   int64   \n",
      " 4   session_duration_minutes         4989 non-null   float64 \n",
      " 5   ingame_purchases_                4989 non-null   float64 \n",
      " 6   social_media_mentions            4989 non-null   int64   \n",
      " 7   stream_viewership                4989 non-null   float64 \n",
      " 8   revenue_                         4989 non-null   float64 \n",
      " 9   top_genre                        4989 non-null   object  \n",
      " 10  influencer_endorsements          4989 non-null   int64   \n",
      " 11  revenue_per_user                 4989 non-null   float64 \n",
      " 12  log_revenue_per_user             4989 non-null   float64 \n",
      " 13  log_revenue                      4989 non-null   float64 \n",
      " 14  engagement_level                 4989 non-null   category\n",
      " 15  scaled_daily_active_users_dau    4989 non-null   float64 \n",
      " 16  scaled_session_duration_minutes  4989 non-null   float64 \n",
      " 17  scaled_ingame_purchases_         4989 non-null   float64 \n",
      " 18  scaled_revenue_per_user          4989 non-null   float64 \n",
      " 19  scaled_log_revenue               4989 non-null   float64 \n",
      " 20  scaled_social_media_mentions     4989 non-null   float64 \n",
      " 21  scaled_stream_viewership         4989 non-null   float64 \n",
      " 22  scaled_new_registrations         4989 non-null   float64 \n",
      "dtypes: category(1), float64(15), int64(4), object(3)\n",
      "memory usage: 862.6+ KB\n",
      "Saved data with scaled featurs as: scaled_data_20250520_230548.csv\n"
     ]
    }
   ],
   "source": [
    "from sklearn.preprocessing import MinMaxScaler\n",
    "from datetime import datetime\n",
    "\n",
    "# Select numerical features for scaling\n",
    "features_to_scale = [\n",
    "    'daily_active_users_dau',\n",
    "    'session_duration_minutes',\n",
    "    'ingame_purchases_',\n",
    "    'revenue_per_user',\n",
    "    'log_revenue',\n",
    "    'social_media_mentions',\n",
    "    'stream_viewership',\n",
    "    'new_registrations'\n",
    "]\n",
    "\n",
    "# Apply MinMax scalng\n",
    "scaler = MinMaxScaler()\n",
    "scaled_features = scaler.fit_transform(df[features_to_scale])\n",
    "\n",
    "# Rename the scaled columns for clarity\n",
    "scaled_features_names = [f'scaled_{col}' for col in features_to_scale]\n",
    "scaled_df = pd.DataFrame(scaled_features, columns=scaled_features_names)\n",
    "\n",
    "# Combine scaled features with original dataframe\n",
    "df = pd.concat([df, scaled_df], axis=1)\n",
    "\n",
    "df = df.loc[:, ~df.columns.duplicated()].copy()\n",
    "\n",
    "df.info()\n",
    "\n",
    "timestamp = datetime.now().strftime(\"%Y%m%d_%H%m%S\")\n",
    "df.to_csv(f'data/scaled_data_{timestamp}.csv', index=False)\n",
    "print(f\"Saved data with scaled featurs as: scaled_data_{timestamp}.csv\")"
   ]
  }
 ],
 "metadata": {
  "colab": {
   "authorship_tag": "ABX9TyMY7GqEqhawjvVTFpN2+7wv",
   "machine_shape": "hm",
   "provenance": []
  },
  "kernelspec": {
   "display_name": "Python 3 (ipykernel)",
   "language": "python",
   "name": "python3"
  },
  "language_info": {
   "codemirror_mode": {
    "name": "ipython",
    "version": 3
   },
   "file_extension": ".py",
   "mimetype": "text/x-python",
   "name": "python",
   "nbconvert_exporter": "python",
   "pygments_lexer": "ipython3",
   "version": "3.12.7"
  }
 },
 "nbformat": 4,
 "nbformat_minor": 4
}
